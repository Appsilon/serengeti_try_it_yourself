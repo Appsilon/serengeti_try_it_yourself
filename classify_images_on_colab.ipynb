{
 "cells": [
  {
   "cell_type": "markdown",
   "metadata": {},
   "source": [
    "<img src=\"assets/Logotyp RGB Logo Appsilon.png\" alt=\"Appsilon logo\" width=\"200\" align=\"right\">\n",
    "\n",
    "This notebook is meant for use on Google Colab. Once you have it running there, just execute the cells. Note, that when executing `run_classification(images_from)`, you have three options for the argument:\n",
    "* `serengeti` - using a few pictures from Snapshot Serengeti on which our model was trained\n",
    "* `fun_examples` - to see some fun examples\n",
    "* `upload` - to be prompted for upload of your own images (only available on Google Colab)\n",
    "\n",
    "Let us know if you notice something cool or funny!\n",
    "\n",
    "All of the code and data is available in <a href=\"https://github.com/Appsilon/serengeti_try_it_yourself\">the GitHub repo</a>."
   ]
  },
  {
   "cell_type": "code",
   "execution_count": null,
   "metadata": {},
   "outputs": [],
   "source": [
    "# Clone the repo (it will be stored on your Google Drive)\n",
    "!git clone https://github.com/Appsilon/serengeti_try_it_yourself.git"
   ]
  },
  {
   "cell_type": "code",
   "execution_count": null,
   "metadata": {},
   "outputs": [],
   "source": [
    "# Enter the newly created folder\n",
    "%cd serengeti_try_it_yourself"
   ]
  },
  {
   "cell_type": "code",
   "execution_count": null,
   "metadata": {
    "scrolled": true
   },
   "outputs": [],
   "source": [
    "# Load all the necesarry functions\n",
    "from functions import *"
   ]
  },
  {
   "cell_type": "code",
   "execution_count": null,
   "metadata": {
    "scrolled": false
   },
   "outputs": [],
   "source": [
    "# Enjoy the results!\n",
    "run_classification(images_from=\"serengeti\")"
   ]
  },
  {
   "cell_type": "code",
   "execution_count": null,
   "metadata": {},
   "outputs": [],
   "source": []
  }
 ],
 "metadata": {
  "kernelspec": {
   "display_name": "Python 3",
   "language": "python",
   "name": "python3"
  },
  "language_info": {
   "codemirror_mode": {
    "name": "ipython",
    "version": 3
   },
   "file_extension": ".py",
   "mimetype": "text/x-python",
   "name": "python",
   "nbconvert_exporter": "python",
   "pygments_lexer": "ipython3",
   "version": "3.7.3"
  }
 },
 "nbformat": 4,
 "nbformat_minor": 2
}
